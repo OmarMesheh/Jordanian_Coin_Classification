{
 "cells": [
  {
   "cell_type": "code",
   "execution_count": 8,
   "id": "22914aa9",
   "metadata": {},
   "outputs": [],
   "source": [
    "import glob\n",
    "import cv2 as cv\n",
    "import numpy as np\n",
    "import matplotlib.pyplot as plt\n",
    "import os"
   ]
  },
  {
   "cell_type": "code",
   "execution_count": 4,
   "id": "f8380b9c",
   "metadata": {},
   "outputs": [],
   "source": [
    "# pyhton function to store all images' paths\n",
    "# under a given dircetory in a list of paths\n",
    "\n",
    "import glob\n",
    "\n",
    "def load_images( directory ):\n",
    "    imdir = directory\n",
    "    ext = ['png', 'jpg']    # available image extensions\n",
    "\n",
    "    files = []\n",
    "    [files.extend(glob.glob(imdir + '*.' + e)) for e in ext]\n",
    "\n",
    "    return files"
   ]
  },
  {
   "cell_type": "code",
   "execution_count": 9,
   "id": "345dd9a1",
   "metadata": {},
   "outputs": [],
   "source": [
    "# function to crop given images and keeps coins only\n",
    "\n",
    "def crop_coins(files, output_path, counter):\n",
    "    os.chdir(output_path)\n",
    "    for file in files:\n",
    "        # Loads the image and convert it into grayscale\n",
    "        src = cv.imread(cv.samples.findFile(file), cv.IMREAD_COLOR)\n",
    "        gray = cv.cvtColor(src, cv.COLOR_BGR2GRAY)\n",
    "        \n",
    "        #find all circles\n",
    "        rows = gray.shape[0]\n",
    "        \n",
    "        # param1 & param2 can be different and you can change them with each batch\n",
    "        # based on the circles in your images and what you want to detect.\n",
    "        circles = cv.HoughCircles(gray, cv.HOUGH_GRADIENT, 1, rows / 8,\n",
    "                                       param1=200, param2=50,\n",
    "                                       )\n",
    "        \n",
    "        if circles is not None:\n",
    "            circles = np.uint16(np.around(circles))\n",
    "\n",
    "            for i in circles[0, :]:\n",
    "                center = (i[0], i[1])\n",
    "                radius = i[2]\n",
    "                file_name = str(counter) + '.jpg'\n",
    "                counter +=1\n",
    "                try: \n",
    "                    cv.imwrite(file_name, src[i[1]-radius-100:i[1]+radius+100, i[0]-radius-100:i[0]+radius+100])\n",
    "                except:\n",
    "                    continue\n",
    "    return counter"
   ]
  },
  {
   "cell_type": "code",
   "execution_count": 11,
   "id": "0400c677",
   "metadata": {},
   "outputs": [],
   "source": [
    "# this counter is used to track the images and make sure \n",
    "# the program will not overwrite any images.\n",
    "counter =1"
   ]
  },
  {
   "cell_type": "code",
   "execution_count": 7,
   "id": "4adad6f1",
   "metadata": {
    "collapsed": true
   },
   "outputs": [
    {
     "name": "stderr",
     "output_type": "stream",
     "text": [
      "C:\\ProgramData\\Anaconda3\\lib\\site-packages\\ipykernel_launcher.py:24: RuntimeWarning: overflow encountered in ushort_scalars\n"
     ]
    }
   ],
   "source": [
    "# where you store your base images\n",
    "images = load_images('/Users/OMAR/Desktop/Spring 2021/AI & ML/Dataset/25/source/')\n",
    "\n",
    "# where you want to store cropped coins\n",
    "output_path = ('/Users/OMAR/Desktop/Spring 2021/AI & ML/Dataset/25/')\n",
    "\n",
    "counter = crop_coins(images, output_path, counter)\n"
   ]
  },
  {
   "cell_type": "code",
   "execution_count": null,
   "id": "39a2b5f2",
   "metadata": {},
   "outputs": [],
   "source": []
  }
 ],
 "metadata": {
  "kernelspec": {
   "display_name": "Python 3",
   "language": "python",
   "name": "python3"
  },
  "language_info": {
   "codemirror_mode": {
    "name": "ipython",
    "version": 3
   },
   "file_extension": ".py",
   "mimetype": "text/x-python",
   "name": "python",
   "nbconvert_exporter": "python",
   "pygments_lexer": "ipython3",
   "version": "3.7.6"
  },
  "latex_envs": {
   "LaTeX_envs_menu_present": true,
   "autoclose": false,
   "autocomplete": true,
   "bibliofile": "biblio.bib",
   "cite_by": "apalike",
   "current_citInitial": 1,
   "eqLabelWithNumbers": true,
   "eqNumInitial": 1,
   "hotkeys": {
    "equation": "Ctrl-E",
    "itemize": "Ctrl-I"
   },
   "labels_anchors": false,
   "latex_user_defs": false,
   "report_style_numbering": false,
   "user_envs_cfg": false
  }
 },
 "nbformat": 4,
 "nbformat_minor": 5
}
